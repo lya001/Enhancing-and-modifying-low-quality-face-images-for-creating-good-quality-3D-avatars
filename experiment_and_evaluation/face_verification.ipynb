{
 "cells": [
  {
   "cell_type": "code",
   "execution_count": 77,
   "metadata": {},
   "outputs": [],
   "source": [
    "from deepface import DeepFace\n",
    "import os"
   ]
  },
  {
   "cell_type": "code",
   "execution_count": 78,
   "metadata": {},
   "outputs": [],
   "source": [
    "model_name = 'Facenet'\n",
    "distance_metric = 'cosine'\n",
    "detector_backend = 'retinaface'"
   ]
  },
  {
   "cell_type": "code",
   "execution_count": 79,
   "metadata": {},
   "outputs": [
    {
     "name": "stdout",
     "output_type": "stream",
     "text": [
      "67 68 0.9852941176470589\n"
     ]
    }
   ],
   "source": [
    "verified = 0\n",
    "total = 0\n",
    "for filename in os.listdir('../CelebChild_labelled/restore'):\n",
    "    result = DeepFace.verify('../CelebChild_labelled/restore/' + filename, '../results/restore/' + filename,\n",
    "                            model_name=model_name,\n",
    "                            distance_metric=distance_metric,\n",
    "                            enforce_detection=False,\n",
    "                            detector_backend=detector_backend)\n",
    "    if result['verified']:\n",
    "        verified += 1\n",
    "    total += 1\n",
    "print(verified, total, verified / total)"
   ]
  },
  {
   "cell_type": "code",
   "execution_count": 80,
   "metadata": {},
   "outputs": [
    {
     "name": "stdout",
     "output_type": "stream",
     "text": [
      "33 36 0.9166666666666666\n"
     ]
    }
   ],
   "source": [
    "verified = 0\n",
    "total = 0\n",
    "for filename in os.listdir('../CelebChild_labelled/rotate'):\n",
    "    result = DeepFace.verify('../CelebChild_labelled/rotate/' + filename, '../results/rotate/' + filename,\n",
    "                            model_name=model_name,\n",
    "                            distance_metric=distance_metric,\n",
    "                            enforce_detection=False,\n",
    "                            detector_backend=detector_backend)\n",
    "    if result['verified']:\n",
    "        verified += 1\n",
    "    total += 1\n",
    "print(verified, total, verified / total)"
   ]
  },
  {
   "cell_type": "code",
   "execution_count": 81,
   "metadata": {},
   "outputs": [
    {
     "name": "stdout",
     "output_type": "stream",
     "text": [
      "43 47 0.9148936170212766\n"
     ]
    }
   ],
   "source": [
    "verified = 0\n",
    "total = 0\n",
    "for filename in os.listdir('../CelebChild_labelled/neutral'):\n",
    "    result = DeepFace.verify('../CelebChild_labelled/neutral/' + filename, '../results/neutral/' + filename,\n",
    "                            model_name=model_name,\n",
    "                            distance_metric=distance_metric,\n",
    "                            enforce_detection=False,\n",
    "                            detector_backend=detector_backend)\n",
    "    if result['verified']:\n",
    "        verified += 1\n",
    "    total += 1\n",
    "print(verified, total, verified / total)"
   ]
  },
  {
   "cell_type": "code",
   "execution_count": 82,
   "metadata": {},
   "outputs": [
    {
     "name": "stdout",
     "output_type": "stream",
     "text": [
      "21 29 0.7241379310344828\n"
     ]
    }
   ],
   "source": [
    "verified = 0\n",
    "total = 0\n",
    "for filename in os.listdir('../CelebChild_labelled/rotate+neutral'):\n",
    "    result = DeepFace.verify('../CelebChild_labelled/rotate+neutral/' + filename, '../results/rotate+neutral/' + filename,\n",
    "                            model_name=model_name,\n",
    "                            distance_metric=distance_metric,\n",
    "                            enforce_detection=False,\n",
    "                            detector_backend=detector_backend)\n",
    "    if result['verified']:\n",
    "        verified += 1\n",
    "    total += 1\n",
    "print(verified, total, verified / total)"
   ]
  }
 ],
 "metadata": {
  "kernelspec": {
   "display_name": "Evaluation",
   "language": "python",
   "name": "python3"
  },
  "language_info": {
   "codemirror_mode": {
    "name": "ipython",
    "version": 3
   },
   "file_extension": ".py",
   "mimetype": "text/x-python",
   "name": "python",
   "nbconvert_exporter": "python",
   "pygments_lexer": "ipython3",
   "version": "3.9.12"
  },
  "orig_nbformat": 4
 },
 "nbformat": 4,
 "nbformat_minor": 2
}
